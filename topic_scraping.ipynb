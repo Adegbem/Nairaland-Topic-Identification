{
 "cells": [
  {
   "cell_type": "code",
   "execution_count": 3,
   "id": "07bc5c79",
   "metadata": {},
   "outputs": [],
   "source": [
    "from selenium import webdriver\n",
    "from selenium.webdriver.common.by import By\n",
    "from selenium.webdriver.chrome.service import Service\n",
    "import pandas as pd\n",
    "import time\n",
    "from datetime import datetime"
   ]
  },
  {
   "cell_type": "code",
   "execution_count": 18,
   "id": "137bd734",
   "metadata": {},
   "outputs": [],
   "source": [
    "def web_opens(website: str):\n",
    "    # Opening the website\n",
    "    driver_web = webdriver.Chrome(service=Service('C:\\webdrivers\\chromedriver.exe'))\n",
    "    driver_web.get(website)\n",
    "    driver_web.maximize_window()\n",
    "    return driver_web"
   ]
  },
  {
   "cell_type": "code",
   "execution_count": 19,
   "id": "1df07ca8",
   "metadata": {},
   "outputs": [],
   "source": [
    "# Extraction of each website and links into a dictionary\n",
    "link_dict = {}\n",
    "url = 'https://www.nairaland.com/'\n",
    "driver = web_opens(url)\n",
    "picky = driver.find_elements(By.XPATH,'//html/body/div/table[2]//tr')\n",
    "for x in picky[1:]:\n",
    "    picky_sub = x.find_elements(By.TAG_NAME,'a')\n",
    "    for p in picky_sub[1:]:\n",
    "        p = p.get_attribute('href')\n",
    "        link_sub = p.split('/')\n",
    "        link_dict[link_sub[-1]] = p\n",
    "\n",
    "driver.quit()"
   ]
  },
  {
   "cell_type": "code",
   "execution_count": 20,
   "id": "cff2ee47",
   "metadata": {},
   "outputs": [
    {
     "data": {
      "text/plain": [
       "{'politics': 'https://www.nairaland.com/politics',\n",
       " 'crime': 'https://www.nairaland.com/crime',\n",
       " 'romance': 'https://www.nairaland.com/romance',\n",
       " 'jobs': 'https://www.nairaland.com/jobs',\n",
       " 'career': 'https://www.nairaland.com/career',\n",
       " 'business': 'https://www.nairaland.com/business',\n",
       " 'investment': 'https://www.nairaland.com/investment',\n",
       " 'nysc': 'https://www.nairaland.com/nysc',\n",
       " 'education': 'https://www.nairaland.com/education',\n",
       " 'autos': 'https://www.nairaland.com/autos',\n",
       " 'cartalk': 'https://www.nairaland.com/cartalk',\n",
       " 'properties': 'https://www.nairaland.com/properties',\n",
       " 'health': 'https://www.nairaland.com/health',\n",
       " 'travel': 'https://www.nairaland.com/travel',\n",
       " 'family': 'https://www.nairaland.com/family',\n",
       " 'culture': 'https://www.nairaland.com/culture',\n",
       " 'religion': 'https://www.nairaland.com/religion',\n",
       " 'food': 'https://www.nairaland.com/food',\n",
       " 'diaries': 'https://www.nairaland.com/diaries',\n",
       " 'ads': 'https://www.nairaland.com/ads',\n",
       " 'pets': 'https://www.nairaland.com/pets',\n",
       " 'agriculture': 'https://www.nairaland.com/agriculture',\n",
       " 'jokes': 'https://www.nairaland.com/jokes',\n",
       " 'tv-movies': 'https://www.nairaland.com/tv-movies',\n",
       " 'music-radio': 'https://www.nairaland.com/music-radio',\n",
       " 'celebs': 'https://www.nairaland.com/celebs',\n",
       " 'fashion': 'https://www.nairaland.com/fashion',\n",
       " 'events': 'https://www.nairaland.com/events',\n",
       " 'sports': 'https://www.nairaland.com/sports',\n",
       " 'gaming': 'https://www.nairaland.com/gaming',\n",
       " 'forum-games': 'https://www.nairaland.com/forum-games',\n",
       " 'literature': 'https://www.nairaland.com/literature',\n",
       " 'programming': 'https://www.nairaland.com/programming',\n",
       " 'webmasters': 'https://www.nairaland.com/webmasters',\n",
       " 'computers': 'https://www.nairaland.com/computers',\n",
       " 'phones': 'https://www.nairaland.com/phones',\n",
       " 'graphics-video': 'https://www.nairaland.com/graphics-video',\n",
       " 'techmarket': 'https://www.nairaland.com/techmarket'}"
      ]
     },
     "execution_count": 20,
     "metadata": {},
     "output_type": "execute_result"
    }
   ],
   "source": [
    "link_dict"
   ]
  },
  {
   "cell_type": "code",
   "execution_count": 21,
   "id": "c5f0d425",
   "metadata": {},
   "outputs": [
    {
     "data": {
      "text/plain": [
       "'https://www.nairaland.com/programming'"
      ]
     },
     "execution_count": 21,
     "metadata": {},
     "output_type": "execute_result"
    }
   ],
   "source": [
    "link_dict['programming']"
   ]
  },
  {
   "cell_type": "code",
   "execution_count": null,
   "id": "13eda7e7",
   "metadata": {},
   "outputs": [],
   "source": []
  }
 ],
 "metadata": {
  "kernelspec": {
   "display_name": "Python 3 (ipykernel)",
   "language": "python",
   "name": "python3"
  },
  "language_info": {
   "codemirror_mode": {
    "name": "ipython",
    "version": 3
   },
   "file_extension": ".py",
   "mimetype": "text/x-python",
   "name": "python",
   "nbconvert_exporter": "python",
   "pygments_lexer": "ipython3",
   "version": "3.9.12"
  }
 },
 "nbformat": 4,
 "nbformat_minor": 5
}
